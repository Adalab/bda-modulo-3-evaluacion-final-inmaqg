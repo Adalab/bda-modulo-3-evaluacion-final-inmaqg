{
 "cells": [
  {
   "cell_type": "markdown",
   "metadata": {},
   "source": [
    "# Fase 1: Exploración y limpieza\n",
    "## 1. Exploración Inicial:"
   ]
  },
  {
   "cell_type": "code",
   "execution_count": 360,
   "metadata": {},
   "outputs": [],
   "source": [
    "import pandas as pd\n",
    "import numpy as np"
   ]
  },
  {
   "cell_type": "code",
   "execution_count": 361,
   "metadata": {},
   "outputs": [
    {
     "data": {
      "text/html": [
       "<div>\n",
       "<style scoped>\n",
       "    .dataframe tbody tr th:only-of-type {\n",
       "        vertical-align: middle;\n",
       "    }\n",
       "\n",
       "    .dataframe tbody tr th {\n",
       "        vertical-align: top;\n",
       "    }\n",
       "\n",
       "    .dataframe thead th {\n",
       "        text-align: right;\n",
       "    }\n",
       "</style>\n",
       "<table border=\"1\" class=\"dataframe\">\n",
       "  <thead>\n",
       "    <tr style=\"text-align: right;\">\n",
       "      <th></th>\n",
       "      <th>Loyalty Number</th>\n",
       "      <th>Year</th>\n",
       "      <th>Month</th>\n",
       "      <th>Flights Booked</th>\n",
       "      <th>Flights with Companions</th>\n",
       "      <th>Total Flights</th>\n",
       "      <th>Distance</th>\n",
       "      <th>Points Accumulated</th>\n",
       "      <th>Points Redeemed</th>\n",
       "      <th>Dollar Cost Points Redeemed</th>\n",
       "    </tr>\n",
       "  </thead>\n",
       "  <tbody>\n",
       "    <tr>\n",
       "      <th>0</th>\n",
       "      <td>100018</td>\n",
       "      <td>2017</td>\n",
       "      <td>1</td>\n",
       "      <td>3</td>\n",
       "      <td>0</td>\n",
       "      <td>3</td>\n",
       "      <td>1521</td>\n",
       "      <td>152.0</td>\n",
       "      <td>0</td>\n",
       "      <td>0</td>\n",
       "    </tr>\n",
       "    <tr>\n",
       "      <th>1</th>\n",
       "      <td>100102</td>\n",
       "      <td>2017</td>\n",
       "      <td>1</td>\n",
       "      <td>10</td>\n",
       "      <td>4</td>\n",
       "      <td>14</td>\n",
       "      <td>2030</td>\n",
       "      <td>203.0</td>\n",
       "      <td>0</td>\n",
       "      <td>0</td>\n",
       "    </tr>\n",
       "    <tr>\n",
       "      <th>2</th>\n",
       "      <td>100140</td>\n",
       "      <td>2017</td>\n",
       "      <td>1</td>\n",
       "      <td>6</td>\n",
       "      <td>0</td>\n",
       "      <td>6</td>\n",
       "      <td>1200</td>\n",
       "      <td>120.0</td>\n",
       "      <td>0</td>\n",
       "      <td>0</td>\n",
       "    </tr>\n",
       "    <tr>\n",
       "      <th>3</th>\n",
       "      <td>100214</td>\n",
       "      <td>2017</td>\n",
       "      <td>1</td>\n",
       "      <td>0</td>\n",
       "      <td>0</td>\n",
       "      <td>0</td>\n",
       "      <td>0</td>\n",
       "      <td>0.0</td>\n",
       "      <td>0</td>\n",
       "      <td>0</td>\n",
       "    </tr>\n",
       "    <tr>\n",
       "      <th>4</th>\n",
       "      <td>100272</td>\n",
       "      <td>2017</td>\n",
       "      <td>1</td>\n",
       "      <td>0</td>\n",
       "      <td>0</td>\n",
       "      <td>0</td>\n",
       "      <td>0</td>\n",
       "      <td>0.0</td>\n",
       "      <td>0</td>\n",
       "      <td>0</td>\n",
       "    </tr>\n",
       "  </tbody>\n",
       "</table>\n",
       "</div>"
      ],
      "text/plain": [
       "   Loyalty Number  Year  Month  Flights Booked  Flights with Companions  \\\n",
       "0          100018  2017      1               3                        0   \n",
       "1          100102  2017      1              10                        4   \n",
       "2          100140  2017      1               6                        0   \n",
       "3          100214  2017      1               0                        0   \n",
       "4          100272  2017      1               0                        0   \n",
       "\n",
       "   Total Flights  Distance  Points Accumulated  Points Redeemed  \\\n",
       "0              3      1521               152.0                0   \n",
       "1             14      2030               203.0                0   \n",
       "2              6      1200               120.0                0   \n",
       "3              0         0                 0.0                0   \n",
       "4              0         0                 0.0                0   \n",
       "\n",
       "   Dollar Cost Points Redeemed  \n",
       "0                            0  \n",
       "1                            0  \n",
       "2                            0  \n",
       "3                            0  \n",
       "4                            0  "
      ]
     },
     "execution_count": 361,
     "metadata": {},
     "output_type": "execute_result"
    }
   ],
   "source": [
    "df_flight = pd.read_csv(\"Customer Flight Activity.csv\")\n",
    "df_flight.head()"
   ]
  },
  {
   "cell_type": "code",
   "execution_count": 362,
   "metadata": {},
   "outputs": [
    {
     "data": {
      "text/html": [
       "<div>\n",
       "<style scoped>\n",
       "    .dataframe tbody tr th:only-of-type {\n",
       "        vertical-align: middle;\n",
       "    }\n",
       "\n",
       "    .dataframe tbody tr th {\n",
       "        vertical-align: top;\n",
       "    }\n",
       "\n",
       "    .dataframe thead th {\n",
       "        text-align: right;\n",
       "    }\n",
       "</style>\n",
       "<table border=\"1\" class=\"dataframe\">\n",
       "  <thead>\n",
       "    <tr style=\"text-align: right;\">\n",
       "      <th></th>\n",
       "      <th>Loyalty Number</th>\n",
       "      <th>Country</th>\n",
       "      <th>Province</th>\n",
       "      <th>City</th>\n",
       "      <th>Postal Code</th>\n",
       "      <th>Gender</th>\n",
       "      <th>Education</th>\n",
       "      <th>Salary</th>\n",
       "      <th>Marital Status</th>\n",
       "      <th>Loyalty Card</th>\n",
       "      <th>CLV</th>\n",
       "      <th>Enrollment Type</th>\n",
       "      <th>Enrollment Year</th>\n",
       "      <th>Enrollment Month</th>\n",
       "      <th>Cancellation Year</th>\n",
       "      <th>Cancellation Month</th>\n",
       "    </tr>\n",
       "  </thead>\n",
       "  <tbody>\n",
       "    <tr>\n",
       "      <th>0</th>\n",
       "      <td>480934</td>\n",
       "      <td>Canada</td>\n",
       "      <td>Ontario</td>\n",
       "      <td>Toronto</td>\n",
       "      <td>M2Z 4K1</td>\n",
       "      <td>Female</td>\n",
       "      <td>Bachelor</td>\n",
       "      <td>83236.0</td>\n",
       "      <td>Married</td>\n",
       "      <td>Star</td>\n",
       "      <td>3839.14</td>\n",
       "      <td>Standard</td>\n",
       "      <td>2016</td>\n",
       "      <td>2</td>\n",
       "      <td>NaN</td>\n",
       "      <td>NaN</td>\n",
       "    </tr>\n",
       "    <tr>\n",
       "      <th>1</th>\n",
       "      <td>549612</td>\n",
       "      <td>Canada</td>\n",
       "      <td>Alberta</td>\n",
       "      <td>Edmonton</td>\n",
       "      <td>T3G 6Y6</td>\n",
       "      <td>Male</td>\n",
       "      <td>College</td>\n",
       "      <td>NaN</td>\n",
       "      <td>Divorced</td>\n",
       "      <td>Star</td>\n",
       "      <td>3839.61</td>\n",
       "      <td>Standard</td>\n",
       "      <td>2016</td>\n",
       "      <td>3</td>\n",
       "      <td>NaN</td>\n",
       "      <td>NaN</td>\n",
       "    </tr>\n",
       "    <tr>\n",
       "      <th>2</th>\n",
       "      <td>429460</td>\n",
       "      <td>Canada</td>\n",
       "      <td>British Columbia</td>\n",
       "      <td>Vancouver</td>\n",
       "      <td>V6E 3D9</td>\n",
       "      <td>Male</td>\n",
       "      <td>College</td>\n",
       "      <td>NaN</td>\n",
       "      <td>Single</td>\n",
       "      <td>Star</td>\n",
       "      <td>3839.75</td>\n",
       "      <td>Standard</td>\n",
       "      <td>2014</td>\n",
       "      <td>7</td>\n",
       "      <td>2018.0</td>\n",
       "      <td>1.0</td>\n",
       "    </tr>\n",
       "    <tr>\n",
       "      <th>3</th>\n",
       "      <td>608370</td>\n",
       "      <td>Canada</td>\n",
       "      <td>Ontario</td>\n",
       "      <td>Toronto</td>\n",
       "      <td>P1W 1K4</td>\n",
       "      <td>Male</td>\n",
       "      <td>College</td>\n",
       "      <td>NaN</td>\n",
       "      <td>Single</td>\n",
       "      <td>Star</td>\n",
       "      <td>3839.75</td>\n",
       "      <td>Standard</td>\n",
       "      <td>2013</td>\n",
       "      <td>2</td>\n",
       "      <td>NaN</td>\n",
       "      <td>NaN</td>\n",
       "    </tr>\n",
       "    <tr>\n",
       "      <th>4</th>\n",
       "      <td>530508</td>\n",
       "      <td>Canada</td>\n",
       "      <td>Quebec</td>\n",
       "      <td>Hull</td>\n",
       "      <td>J8Y 3Z5</td>\n",
       "      <td>Male</td>\n",
       "      <td>Bachelor</td>\n",
       "      <td>103495.0</td>\n",
       "      <td>Married</td>\n",
       "      <td>Star</td>\n",
       "      <td>3842.79</td>\n",
       "      <td>Standard</td>\n",
       "      <td>2014</td>\n",
       "      <td>10</td>\n",
       "      <td>NaN</td>\n",
       "      <td>NaN</td>\n",
       "    </tr>\n",
       "  </tbody>\n",
       "</table>\n",
       "</div>"
      ],
      "text/plain": [
       "   Loyalty Number Country          Province       City Postal Code  Gender  \\\n",
       "0          480934  Canada           Ontario    Toronto     M2Z 4K1  Female   \n",
       "1          549612  Canada           Alberta   Edmonton     T3G 6Y6    Male   \n",
       "2          429460  Canada  British Columbia  Vancouver     V6E 3D9    Male   \n",
       "3          608370  Canada           Ontario    Toronto     P1W 1K4    Male   \n",
       "4          530508  Canada            Quebec       Hull     J8Y 3Z5    Male   \n",
       "\n",
       "  Education    Salary Marital Status Loyalty Card      CLV Enrollment Type  \\\n",
       "0  Bachelor   83236.0        Married         Star  3839.14        Standard   \n",
       "1   College       NaN       Divorced         Star  3839.61        Standard   \n",
       "2   College       NaN         Single         Star  3839.75        Standard   \n",
       "3   College       NaN         Single         Star  3839.75        Standard   \n",
       "4  Bachelor  103495.0        Married         Star  3842.79        Standard   \n",
       "\n",
       "   Enrollment Year  Enrollment Month  Cancellation Year  Cancellation Month  \n",
       "0             2016                 2                NaN                 NaN  \n",
       "1             2016                 3                NaN                 NaN  \n",
       "2             2014                 7             2018.0                 1.0  \n",
       "3             2013                 2                NaN                 NaN  \n",
       "4             2014                10                NaN                 NaN  "
      ]
     },
     "execution_count": 362,
     "metadata": {},
     "output_type": "execute_result"
    }
   ],
   "source": [
    "df_history = pd.read_csv(\"Customer Loyalty History.csv\")\n",
    "df_history.head()"
   ]
  },
  {
   "cell_type": "code",
   "execution_count": null,
   "metadata": {},
   "outputs": [],
   "source": [
    "# Primero, uno las tablas con un merge, por la columna que tienen en común: Loyalty Number.\n",
    "\n",
    "df_final = df_flight.merge(df_history, on='Loyalty Number', how='outer') # Uso outer join porque nos interesa conocer todos los registros de ambas tablas, independientemente de si hay coincidencias o no.\n",
    "df_final.head() # Para que nos muestre las primeras 5 filas del df"
   ]
  },
  {
   "cell_type": "code",
   "execution_count": null,
   "metadata": {},
   "outputs": [],
   "source": [
    "df_final.tail() # Muestra las últimas 5 filas del df"
   ]
  },
  {
   "cell_type": "code",
   "execution_count": null,
   "metadata": {},
   "outputs": [],
   "source": [
    "df_final.sample(5) # Muestra una muestra aleatoria"
   ]
  },
  {
   "cell_type": "code",
   "execution_count": null,
   "metadata": {},
   "outputs": [],
   "source": [
    "df_final.columns # Para que me enseñe las columnas del df"
   ]
  },
  {
   "cell_type": "code",
   "execution_count": null,
   "metadata": {},
   "outputs": [],
   "source": [
    "df_final.shape # Me muestra el número de filas y de columnas"
   ]
  },
  {
   "cell_type": "code",
   "execution_count": null,
   "metadata": {},
   "outputs": [],
   "source": [
    "df_final.info() ## me hago una idea de los datos que tenemos: 405624, están en todas las columnas salvo en 2.\n",
    "## Vemos que hay nulos en las columnas 'salary´, 'cancellation year' y 'cancellation month'\n",
    "## Vemos que las columnas 'Cancellation Year' y 'Cancellation Month' son float y deberían ser integer"
   ]
  },
  {
   "cell_type": "code",
   "execution_count": null,
   "metadata": {},
   "outputs": [],
   "source": [
    "df_final.select_dtypes(include=[object]) # Comprobamos que el postal code es un object que se refiere a Canadá."
   ]
  },
  {
   "cell_type": "code",
   "execution_count": null,
   "metadata": {},
   "outputs": [],
   "source": [
    "df_final.describe().T\n",
    "# COUNT: el número de observaciones no nulas\n",
    "# MEAN: la media\n",
    "# STD: mide la dispersión\n",
    "# MIN: valor mínimo VS. MAX: valor máx\n",
    "# 25%: valor por debajo del cual se encuentran el 25% de los datos de esa columna VS de 75% valor por debajo del cual se encuentra el 75% de los datos de esa columna\n",
    "# 50%: valor que coincide con la mediana: divide el conjunto de datos en 2 mitades iguales"
   ]
  },
  {
   "cell_type": "markdown",
   "metadata": {},
   "source": [
    "- #### Algunas observaciones:\n",
    "El mes donde más actividades de vuelo han habido ha sido el 6,5, es decir la segunda quincena de junio, posiblemente coincide con las vacaciones de verano\n",
    "El valor de los puntos que el cliente ha usado de media durante el mes es de 2 dólares (parece un poco bajo)"
   ]
  },
  {
   "cell_type": "code",
   "execution_count": null,
   "metadata": {},
   "outputs": [],
   "source": [
    "# Ahora hacemos lo mismo para ver las columnas de tipo object\n",
    "df_final.describe(include = 'object').T\n",
    "#Vemos que todas las entradas son de CANADÁ\n",
    "## UNIQUE: nos dice la cantidad de números únicos: son datos de Canadá\n",
    "## TOP: nos dice el valor más común: 11 provincias diferentes, la más frecuente Ontario, con 130896 veces se repite"
   ]
  },
  {
   "cell_type": "code",
   "execution_count": 169,
   "metadata": {},
   "outputs": [
    {
     "data": {
      "text/plain": [
       "array(['Married', 'Single', 'Divorced'], dtype=object)"
      ]
     },
     "execution_count": 169,
     "metadata": {},
     "output_type": "execute_result"
    }
   ],
   "source": [
    "df_final['Marital Status'].unique() # Quiero ver los valores únicos de la columna Marital Status"
   ]
  },
  {
   "cell_type": "code",
   "execution_count": 170,
   "metadata": {},
   "outputs": [
    {
     "data": {
      "text/plain": [
       "array(['Aurora', 'Nova', 'Star'], dtype=object)"
      ]
     },
     "execution_count": 170,
     "metadata": {},
     "output_type": "execute_result"
    }
   ],
   "source": [
    "df_final['Loyalty Card'].unique() # Son los 3 tipos de tarjetas de lealtad que hay. "
   ]
  },
  {
   "cell_type": "code",
   "execution_count": 171,
   "metadata": {},
   "outputs": [
    {
     "data": {
      "text/plain": [
       "array(['Standard', '2018 Promotion'], dtype=object)"
      ]
     },
     "execution_count": 171,
     "metadata": {},
     "output_type": "execute_result"
    }
   ],
   "source": [
    "df_final['Enrollment Type'].unique() # la gran mayoría se inscribieron de tipo standard, no con la promoción de 2018"
   ]
  },
  {
   "cell_type": "code",
   "execution_count": null,
   "metadata": {},
   "outputs": [],
   "source": [
    "df_final['Education'].value_counts() # para ver en qué se divide Education"
   ]
  },
  {
   "cell_type": "code",
   "execution_count": 368,
   "metadata": {},
   "outputs": [
    {
     "data": {
      "text/plain": [
       "16737"
      ]
     },
     "execution_count": 368,
     "metadata": {},
     "output_type": "execute_result"
    }
   ],
   "source": [
    "df_final['Loyalty Number'].nunique() ## Hay 16737 valores únicos"
   ]
  },
  {
   "cell_type": "code",
   "execution_count": null,
   "metadata": {},
   "outputs": [],
   "source": [
    "df_final['Loyalty Number']"
   ]
  },
  {
   "cell_type": "markdown",
   "metadata": {},
   "source": [
    "## 2. Limpieza de datos"
   ]
  },
  {
   "cell_type": "code",
   "execution_count": null,
   "metadata": {},
   "outputs": [],
   "source": [
    "# Ahora voy a ver si hay duplicados\n",
    "df_final.duplicated().sum() # hay 1864 filas duplicadas"
   ]
  },
  {
   "cell_type": "code",
   "execution_count": null,
   "metadata": {},
   "outputs": [],
   "source": [
    "df_final[df_final.duplicated()] # Me muestra el duplicado, la copia (ie: 937, es porque hay un original que es 936)\n",
    "# El keep = False me enseña tanto el original como la copia"
   ]
  },
  {
   "cell_type": "code",
   "execution_count": 371,
   "metadata": {},
   "outputs": [
    {
     "name": "stdout",
     "output_type": "stream",
     "text": [
      "0\n"
     ]
    }
   ],
   "source": [
    "# Quiero borrar las filas que están duplicadas\n",
    "df_final = df_final.drop_duplicates(keep=False) \n",
    "print(df_final.duplicated().sum()) ## Verifico que se han eliminado todos los duplicados"
   ]
  },
  {
   "cell_type": "code",
   "execution_count": 381,
   "metadata": {},
   "outputs": [
    {
     "data": {
      "text/plain": [
       "Loyalty Number                 0\n",
       "Year                           0\n",
       "Month                          0\n",
       "Flights Booked                 0\n",
       "Flights with Companions        0\n",
       "Total Flights                  0\n",
       "Distance                       0\n",
       "Points Accumulated             0\n",
       "Points Redeemed                0\n",
       "Dollar Cost Points Redeemed    0\n",
       "Country                        0\n",
       "Province                       0\n",
       "City                           0\n",
       "Postal Code                    0\n",
       "Gender                         0\n",
       "Education                      0\n",
       "Salary                         0\n",
       "Marital Status                 0\n",
       "Loyalty Card                   0\n",
       "CLV                            0\n",
       "Enrollment Type                0\n",
       "Enrollment Year                0\n",
       "Enrollment Month               0\n",
       "Cancellation Year              0\n",
       "Cancellation Month             0\n",
       "dtype: int64"
      ]
     },
     "execution_count": 381,
     "metadata": {},
     "output_type": "execute_result"
    }
   ],
   "source": [
    "# Veo la cantidad de nulos que hay en cada columna\n",
    "nulos = df_final.isnull().sum()\n",
    "nulos\n",
    "# Las 3 columnas considero que son importantes, por lo que se quedan."
   ]
  },
  {
   "cell_type": "code",
   "execution_count": null,
   "metadata": {},
   "outputs": [],
   "source": [
    "## Al ser variables numéricas tenemos que ver el porcentaje de nulos que representa:\n",
    "df_final.shape[0]\n",
    "porcentaje_nulos = df_final.isnull().sum()/df_final.shape[0]*100 # calculo el porcentaje de nulos\n",
    "porcentaje_nulos.sort_values(ascending=False) # ordeno el porcentaje de nulos de mayor a menor"
   ]
  },
  {
   "cell_type": "code",
   "execution_count": null,
   "metadata": {},
   "outputs": [
    {
     "data": {
      "text/plain": [
       "Index([], dtype='object')"
      ]
     },
     "execution_count": 382,
     "metadata": {},
     "output_type": "execute_result"
    }
   ],
   "source": [
    "# Quiero ver las columnas numéricas que tienen nulos\n",
    "columnas_numericas_con_nulos = df_final[df_final.columns[df_final.isnull().any()]].select_dtypes(include = \"number\").columns \n",
    "columnas_numericas_con_nulos"
   ]
  },
  {
   "cell_type": "code",
   "execution_count": 383,
   "metadata": {},
   "outputs": [],
   "source": [
    "# Vemos la distribución de los nulos por categorías\n",
    "for col in columnas_numericas_con_nulos:\n",
    "    print(f\"La distribución de las categorías (incluyendo nulos) para la columna\", col)\n",
    "    display(df_final[col].value_counts(dropna=False, normalize=True) * 100)  # Convertimos a porcentaje\n",
    "    print(\"........................\")"
   ]
  },
  {
   "cell_type": "code",
   "execution_count": null,
   "metadata": {},
   "outputs": [],
   "source": [
    "# Como son variables numéricas y hay un alto % de nulos, vamos a imputar esos nulos con iterative imputer:\n",
    "\n",
    "from sklearn.experimental import enable_iterative_imputer\n",
    "from sklearn.impute import IterativeImputer"
   ]
  },
  {
   "cell_type": "code",
   "execution_count": null,
   "metadata": {},
   "outputs": [],
   "source": [
    "# Vemos que en las 3 hay un gran porcentaje alto de nulos: tenemos que imputarlos con técnicas avanzadas:\n",
    "imputer_iter = IterativeImputer(max_iter = 100, random_state = 42) # max_iter es el número de veces que queremos que repita la predicción\n",
    "\n",
    "df_final['Cancellation Month'] = imputer_iter.fit_transform(df_final[['Cancellation Month']]) #lo aplico a las 3 columnas\n",
    "df_final['Salary'] = imputer_iter.fit_transform(df_final[['Salary']])\n",
    "df_final['Cancellation Year'] = imputer_iter.fit_transform(df_final[['Cancellation Year']])\n",
    "# lo que hace el robot (imputer_iter) es ver qué dato es el que más sentido tiene meter ahí, se centra sobre todo en las correlaciones \n",
    "\n",
    "df_final.isnull().sum() #Verifico la cantidad de valores nulos que hay en cada columna"
   ]
  },
  {
   "cell_type": "code",
   "execution_count": null,
   "metadata": {},
   "outputs": [],
   "source": [
    "# Ahora, sin nulos, sí puedo cambiar el tipo de dato de las dos columnas 'Cancellation Month' y 'Cancellation Year':\n",
    "df_final['Cancellation Month'] = df_final['Cancellation Month'].astype(int) # cambiamos mes y año de float a int\n",
    "df_final['Cancellation Year'] = df_final['Cancellation Year'].astype(int)\n",
    "df_final.info()"
   ]
  },
  {
   "cell_type": "code",
   "execution_count": 379,
   "metadata": {},
   "outputs": [],
   "source": [
    "## Guardo el csv limpio.\n",
    "df_final.to_csv(\"df_final_limpio.csv\", index=False)"
   ]
  },
  {
   "cell_type": "markdown",
   "metadata": {},
   "source": [
    "# Fase 2: Visualización"
   ]
  },
  {
   "cell_type": "markdown",
   "metadata": {},
   "source": [
    "### 1. ¿Cómo se distribuye la cantidad de vuelos reservados por mes durante cada año?"
   ]
  },
  {
   "cell_type": "code",
   "execution_count": 185,
   "metadata": {},
   "outputs": [],
   "source": [
    "import pandas as pd\n",
    "\n",
    "import matplotlib.pyplot as plt\n",
    "import seaborn as sns\n",
    "\n",
    "pd.set_option('display.max_columns', None)"
   ]
  },
  {
   "cell_type": "code",
   "execution_count": null,
   "metadata": {},
   "outputs": [],
   "source": [
    "df_final.head(2) # Primero, miro mi df"
   ]
  },
  {
   "cell_type": "code",
   "execution_count": null,
   "metadata": {},
   "outputs": [],
   "source": [
    "vuelos_por_mes = df_final.groupby([\"Year\", \"Month\"])[\"Total Flights\"].sum().reset_index() # Agrupamos por año y mes, sumando la cantidad total de vuelos\n",
    "vuelos_por_mes"
   ]
  },
  {
   "cell_type": "code",
   "execution_count": null,
   "metadata": {},
   "outputs": [],
   "source": [
    "# Usamos un gráfico de líneas para variables numéricas\n",
    "sns.lineplot(data = vuelos_por_mes, x=\"Month\", y=\"Total Flights\", hue=\"Year\") ## coge los datos de vuelos_por_mes, donde x es el mes e 'y' los vuelos totales\n",
    "plt.xlabel(\"Mes\") # Ponemos la etiqueta 'mes' al eje x\n",
    "plt.ylabel(\"Cantidad de vuelos reservados\") # Ponemos la etiqueta al eje 'y'\n",
    "plt.title(\"Distribución de vuelos reservados por mes y año\")\n",
    "plt.legend(title = \"Año\") # Ponemos nombre a la leyenda\n",
    "plt.show()\n",
    "\n",
    "# Observaciones:\n",
    "## La mayoría de vuelos se produjeron entre junio y agosto, con un pico en julio, lo que coincide con las vacaciones de verano\n",
    "## También hay un reptunte en el mes de diciembre, coincidiendo con las vacaciones de Navidad\n",
    "## La tendencia se repite ambos años aunque sí observamos un aumento del número de vuelos reservados de abril a diciembre"
   ]
  },
  {
   "cell_type": "markdown",
   "metadata": {},
   "source": [
    "### 2. ¿Existe una relación entre la distancia de los vuelos y los puntos acumulados por los clientes?"
   ]
  },
  {
   "cell_type": "code",
   "execution_count": null,
   "metadata": {},
   "outputs": [],
   "source": [
    "df_final.head(2) # Primero, miro mi df"
   ]
  },
  {
   "cell_type": "code",
   "execution_count": null,
   "metadata": {},
   "outputs": [],
   "source": [
    "# 1. Con Scatterplot:\n",
    "\n",
    "sns.scatterplot(data = df_final, x = 'Distance', y = 'Points Accumulated')\n",
    "plt.title(\"Relación entre la distancia de los vuelos y los puntos acumulados\")\n",
    "plt.xlabel(\"Distancia\")\n",
    "plt.ylabel(\"Puntos acumulados\")\n",
    "plt.show()\n",
    "# Respuesta: Sí, a mayor distancia, mayor número de puntos acumulados. \n",
    "## Es decir, los clientes que viajan más lejos acumulan más puntos"
   ]
  },
  {
   "cell_type": "code",
   "execution_count": null,
   "metadata": {},
   "outputs": [],
   "source": [
    "# 2. Con heatmap:\n",
    "\n",
    "vuelos_puntos_corr = df_final.select_dtypes(include=['number']).corr()\n",
    "vuelos_puntos_corr\n",
    "plt.figure(figsize=(10, 8))  # Tamaño de la figura\n",
    "sns.heatmap(vuelos_puntos_corr, cmap='coolwarm', fmt='.2f', linewidths=0.5) #grosor linea\n",
    "plt.show()\n",
    "## Hay una relación muy alta entre la distancia de los vuelos y los puntos acumulados por los clientes"
   ]
  },
  {
   "cell_type": "markdown",
   "metadata": {},
   "source": [
    "### 3. ¿Cuál es la distribución de los clientes por provincia o estado? Es decir, poder ver cuántos clientes hay en cada provincia."
   ]
  },
  {
   "cell_type": "code",
   "execution_count": 215,
   "metadata": {},
   "outputs": [
    {
     "data": {
      "text/html": [
       "<div>\n",
       "<style scoped>\n",
       "    .dataframe tbody tr th:only-of-type {\n",
       "        vertical-align: middle;\n",
       "    }\n",
       "\n",
       "    .dataframe tbody tr th {\n",
       "        vertical-align: top;\n",
       "    }\n",
       "\n",
       "    .dataframe thead th {\n",
       "        text-align: right;\n",
       "    }\n",
       "</style>\n",
       "<table border=\"1\" class=\"dataframe\">\n",
       "  <thead>\n",
       "    <tr style=\"text-align: right;\">\n",
       "      <th></th>\n",
       "      <th>Loyalty Number</th>\n",
       "      <th>Year</th>\n",
       "      <th>Month</th>\n",
       "      <th>Flights Booked</th>\n",
       "      <th>Flights with Companions</th>\n",
       "      <th>Total Flights</th>\n",
       "      <th>Distance</th>\n",
       "      <th>Points Accumulated</th>\n",
       "      <th>Points Redeemed</th>\n",
       "      <th>Dollar Cost Points Redeemed</th>\n",
       "      <th>Country</th>\n",
       "      <th>Province</th>\n",
       "      <th>City</th>\n",
       "      <th>Postal Code</th>\n",
       "      <th>Gender</th>\n",
       "      <th>Education</th>\n",
       "      <th>Salary</th>\n",
       "      <th>Marital Status</th>\n",
       "      <th>Loyalty Card</th>\n",
       "      <th>CLV</th>\n",
       "      <th>Enrollment Type</th>\n",
       "      <th>Enrollment Year</th>\n",
       "      <th>Enrollment Month</th>\n",
       "      <th>Cancellation Year</th>\n",
       "      <th>Cancellation Month</th>\n",
       "    </tr>\n",
       "  </thead>\n",
       "  <tbody>\n",
       "    <tr>\n",
       "      <th>0</th>\n",
       "      <td>100018</td>\n",
       "      <td>2017</td>\n",
       "      <td>1</td>\n",
       "      <td>3</td>\n",
       "      <td>0</td>\n",
       "      <td>3</td>\n",
       "      <td>1521</td>\n",
       "      <td>152.0</td>\n",
       "      <td>0</td>\n",
       "      <td>0</td>\n",
       "      <td>Canada</td>\n",
       "      <td>Alberta</td>\n",
       "      <td>Edmonton</td>\n",
       "      <td>T9G 1W3</td>\n",
       "      <td>Female</td>\n",
       "      <td>Bachelor</td>\n",
       "      <td>92552.0</td>\n",
       "      <td>Married</td>\n",
       "      <td>Aurora</td>\n",
       "      <td>7919.2</td>\n",
       "      <td>Standard</td>\n",
       "      <td>2016</td>\n",
       "      <td>8</td>\n",
       "      <td>2016</td>\n",
       "      <td>6</td>\n",
       "    </tr>\n",
       "  </tbody>\n",
       "</table>\n",
       "</div>"
      ],
      "text/plain": [
       "   Loyalty Number  Year  Month  Flights Booked  Flights with Companions  \\\n",
       "0          100018  2017      1               3                        0   \n",
       "\n",
       "   Total Flights  Distance  Points Accumulated  Points Redeemed  \\\n",
       "0              3      1521               152.0                0   \n",
       "\n",
       "   Dollar Cost Points Redeemed Country Province      City Postal Code  Gender  \\\n",
       "0                            0  Canada  Alberta  Edmonton     T9G 1W3  Female   \n",
       "\n",
       "  Education   Salary Marital Status Loyalty Card     CLV Enrollment Type  \\\n",
       "0  Bachelor  92552.0        Married       Aurora  7919.2        Standard   \n",
       "\n",
       "   Enrollment Year  Enrollment Month  Cancellation Year  Cancellation Month  \n",
       "0             2016                 8               2016                   6  "
      ]
     },
     "execution_count": 215,
     "metadata": {},
     "output_type": "execute_result"
    }
   ],
   "source": [
    "df_final.head(1)"
   ]
  },
  {
   "cell_type": "code",
   "execution_count": null,
   "metadata": {},
   "outputs": [],
   "source": [
    "# Tenemos que agrupar por Provincia y contamos los valores únicos de 'Loyalty Number' para que no cuente los repetidos\n",
    "clientes_por_provincia = df_final.groupby('Province')['Loyalty Number'].nunique().reset_index()\n",
    "clientes_por_provincia"
   ]
  },
  {
   "cell_type": "code",
   "execution_count": null,
   "metadata": {},
   "outputs": [],
   "source": [
    "# Elijo representación en barras:\n",
    "plt.bar(x=clientes_por_provincia['Province'], height=clientes_por_provincia['Loyalty Number']) # el eje x van a ser mis categorias y en el 'y' la cantidad de clientes\n",
    "plt.bar(x=clientes_por_provincia['Province'], height=clientes_por_provincia['Loyalty Number'], color='pink', edgecolor = 'red') # lo pongo bonito\n",
    "plt.xlabel('Provincia')\n",
    "plt.ylabel('Cantidad de clientes')\n",
    "plt.title('Cantidad de clientes por provincia')\n",
    "plt.xticks(rotation=45); # roto las etiquetas para que quepan\n",
    "plt.show() # Muestro el gráfico\n",
    "\n",
    "# Observaciones: La mayoría de mis clientes son de Ontario, seguido de la provincia de British Columbia y en tercer lugar de Québec."
   ]
  },
  {
   "cell_type": "markdown",
   "metadata": {},
   "source": [
    "### 4. Compara el salario promedio por nivel educativo."
   ]
  },
  {
   "cell_type": "code",
   "execution_count": null,
   "metadata": {},
   "outputs": [],
   "source": [
    "df_final.head(2) # Miro el df para ver las columnas 'Salary' y 'Education'"
   ]
  },
  {
   "cell_type": "code",
   "execution_count": null,
   "metadata": {},
   "outputs": [],
   "source": [
    "## Hago un filtrado para quedarme solo con los valores Loyalty Number que no se repitan.\n",
    "df_filtrado = df_final[['Education', 'Loyalty Number', 'Salary']] # Me creo un df nuevo donde solo utilizo las columnas que me interesan\n",
    "df_filtrado.drop_duplicates(inplace = True) # elimino las filas duplicadas de ese df_filtrado\n",
    "df_filtrado"
   ]
  },
  {
   "cell_type": "code",
   "execution_count": null,
   "metadata": {},
   "outputs": [
    {
     "data": {
      "text/html": [
       "<div>\n",
       "<style scoped>\n",
       "    .dataframe tbody tr th:only-of-type {\n",
       "        vertical-align: middle;\n",
       "    }\n",
       "\n",
       "    .dataframe tbody tr th {\n",
       "        vertical-align: top;\n",
       "    }\n",
       "\n",
       "    .dataframe thead th {\n",
       "        text-align: right;\n",
       "    }\n",
       "</style>\n",
       "<table border=\"1\" class=\"dataframe\">\n",
       "  <thead>\n",
       "    <tr style=\"text-align: right;\">\n",
       "      <th></th>\n",
       "      <th>Education</th>\n",
       "      <th>Salary</th>\n",
       "    </tr>\n",
       "  </thead>\n",
       "  <tbody>\n",
       "    <tr>\n",
       "      <th>0</th>\n",
       "      <td>Bachelor</td>\n",
       "      <td>72451.42</td>\n",
       "    </tr>\n",
       "    <tr>\n",
       "      <th>1</th>\n",
       "      <td>College</td>\n",
       "      <td>79247.59</td>\n",
       "    </tr>\n",
       "    <tr>\n",
       "      <th>2</th>\n",
       "      <td>Doctor</td>\n",
       "      <td>178650.18</td>\n",
       "    </tr>\n",
       "    <tr>\n",
       "      <th>3</th>\n",
       "      <td>High School or Below</td>\n",
       "      <td>61108.66</td>\n",
       "    </tr>\n",
       "    <tr>\n",
       "      <th>4</th>\n",
       "      <td>Master</td>\n",
       "      <td>103723.33</td>\n",
       "    </tr>\n",
       "  </tbody>\n",
       "</table>\n",
       "</div>"
      ],
      "text/plain": [
       "              Education     Salary\n",
       "0              Bachelor   72451.42\n",
       "1               College   79247.59\n",
       "2                Doctor  178650.18\n",
       "3  High School or Below   61108.66\n",
       "4                Master  103723.33"
      ]
     },
     "execution_count": 419,
     "metadata": {},
     "output_type": "execute_result"
    }
   ],
   "source": [
    "salario_promedio = df_filtrado.groupby('Education')['Salary'].mean().reset_index().round(2) # Agrupo por educación y hago la media del salario (redondeo 2 decimales)\n",
    "salario_promedio"
   ]
  },
  {
   "cell_type": "code",
   "execution_count": null,
   "metadata": {},
   "outputs": [],
   "source": [
    "# Creo un gráfico de barras\n",
    "plt.bar(salario_promedio['Education'], salario_promedio['Salary'], color='pink', edgecolor = 'red')\n",
    "plt.xlabel('Nivel educativo')\n",
    "plt.ylabel('Salario medio')\n",
    "plt.title('Salario medio por nivel educativo')\n",
    "plt.xticks(rotation=45)  # Roto las etiquetas para que no se junten\n",
    "plt.show() # Muestro el gráfico\n",
    "\n",
    "# Observaciones: \n",
    "# Mis clientes con mayor salario son aquellos con el grado de Doctor.\n",
    "# Mis clientes que menos cobran son lo que solo tienen el título de Bachiller."
   ]
  },
  {
   "cell_type": "markdown",
   "metadata": {},
   "source": [
    "### 5. ¿Cuál es el porcentaje de clientes por cada tipo de tarjeta de fidelidad?"
   ]
  },
  {
   "cell_type": "code",
   "execution_count": null,
   "metadata": {},
   "outputs": [],
   "source": [
    "df_final.head(2) # Miro el df para ver las columnas 'Loyalty Number' y 'Loyalty Card'"
   ]
  },
  {
   "cell_type": "code",
   "execution_count": null,
   "metadata": {},
   "outputs": [],
   "source": [
    "# Hago un filtrado para quedarme solo con los Loyalty Number que no se repitan y me creo ese df\n",
    "df_filtrado2 = df_final[['Loyalty Number', 'Loyalty Card']] # me creo un df con solo las columnas que me interesan\n",
    "df_filtrado2.drop_duplicates(inplace=True) # Elimino los duplicados de esas columnas\n",
    "df_filtrado2"
   ]
  },
  {
   "cell_type": "code",
   "execution_count": 433,
   "metadata": {},
   "outputs": [
    {
     "data": {
      "text/plain": [
       "16709"
      ]
     },
     "execution_count": 433,
     "metadata": {},
     "output_type": "execute_result"
    }
   ],
   "source": [
    "# Calculo el porcentaje de clientes por cada tipo de tarjeta.\n",
    "clientes_totales = df_filtrado2['Loyalty Number'].count() # Cuento el número total de clientes\n",
    "\n",
    "# Ahora agrupo por tipo de tarjeta y cuento los clientes únicos\n",
    "clientes_por_tarjeta = df_filtrado2.groupby('Loyalty Card')['Loyalty Number'].nunique().reset_index() # cuento la cantidad de clientes por tipo de tarjeta\n",
    "clientes_por_tarjeta['%'] = (clientes_por_tarjeta['Loyalty Number'] / clientes_totales) * 100 # Me creo la columna 'Porcentaje' y calculo el % de clientes con cada tip de tarjeta\n",
    "\n",
    "clientes_por_tarjeta\n",
    "clientes_totales"
   ]
  },
  {
   "cell_type": "code",
   "execution_count": null,
   "metadata": {},
   "outputs": [],
   "source": [
    "# Uso el gráfico de quesitos\n",
    "plt.pie(clientes_por_tarjeta['%'], labels=clientes_por_tarjeta['Loyalty Card'], autopct='%1.1f%%', colors=['LightPink', 'HotPink', 'DeepPink'])\n",
    "plt.title('Porcentaje de clientes por tipo de tarjeta')\n",
    "plt.axis('equal')  # Para que el gráfico sea circular\n",
    "plt.show()\n",
    "\n",
    "# Observaciones: \n",
    "## El 45,7%, es decir, casi la mitad de los clientes tienen la tarjeta Star"
   ]
  },
  {
   "cell_type": "markdown",
   "metadata": {},
   "source": [
    "### 6. ¿Cómo se distribuyen los clientes según su estado civil y género? Es decir, una gráfica donde vea a mis clientes separados por la categoría de estado civil y que en cada categoría vea cuáles son hombres y cuales mujeres."
   ]
  },
  {
   "cell_type": "code",
   "execution_count": null,
   "metadata": {},
   "outputs": [],
   "source": [
    "# Arupo por 'Marital Status' y 'Gender' y de cada grupo le pido que me dé los 'Loyalty Number' únicos\n",
    "resultado2 = df_final.groupby([\"Marital Status\", \"Gender\"])[\"Loyalty Number\"].nunique().reset_index()\n",
    "resultado2"
   ]
  },
  {
   "cell_type": "code",
   "execution_count": 438,
   "metadata": {},
   "outputs": [
    {
     "data": {
      "image/png": "[encoded data removed]",
      "text/plain": [
       "<Figure size 640x480 with 1 Axes>"
      ]
     },
     "metadata": {},
     "output_type": "display_data"
    }
   ],
   "source": [
    "# Utilizo un gráfico de barras agrupado, que nos permite separar los géneros por el parámetro 'hue = Gender'\n",
    "sns.barplot(x='Marital Status', y='Loyalty Number', hue='Gender', data=resultado2, palette='Pastel1')\n",
    "\n",
    "plt.xlabel('Estado civil') # en el eje x van las categorías\n",
    "plt.ylabel('Clientes únicos') # en el eje y van los valores\n",
    "plt.title('Distribución de los clientes por estado civil y género')\n",
    "\n",
    "plt.show() # Enseño el gráfico\n",
    "\n",
    "# La gran mayoría de mis clientes, tanto hombres como mujeres están casados"
   ]
  }
 ],
 "metadata": {
  "kernelspec": {
   "display_name": "base",
   "language": "python",
   "name": "python3"
  },
  "language_info": {
   "codemirror_mode": {
    "name": "ipython",
    "version": 3
   },
   "file_extension": ".py",
   "mimetype": "text/x-python",
   "name": "python",
   "nbconvert_exporter": "python",
   "pygments_lexer": "ipython3",
   "version": "3.11.5"
  }
 },
 "nbformat": 4,
 "nbformat_minor": 2
}
